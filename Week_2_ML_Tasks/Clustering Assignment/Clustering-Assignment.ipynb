{
  "cells": [
    {
      "cell_type": "markdown",
      "metadata": {
        "id": "AbMIyf8ouk1u"
      },
      "source": [
        "# Question 1 : Clustering\n",
        "\n",
        "Customer Segmentation is the subdivision of a market into discrete customer groups that share similar characteristics. Customer Segmentation can be a powerful means to identify unsatisfied customer needs.\n",
        "\n",
        "The csv file **segmentation data.csv** contains basic data about some customers like Customer ID, age, gender, annual income and spending score. You want to classify the customers into different groups so that marketing strategy could be planned in the future accordingly. How many different groups should be made ? What should be the approach ?\n",
        "\n",
        "This is an Unsupervised Learning question since it doesn't provide you with labels - the groups. \n",
        "\n",
        "### 1. Import the necessary modules"
      ]
    },
    {
      "cell_type": "code",
      "execution_count": 11,
      "metadata": {
        "id": "_UKGseStOQgk"
      },
      "outputs": [],
      "source": [
        "import numpy as np\n",
        "import pandas as pd"
      ]
    },
    {
      "cell_type": "markdown",
      "metadata": {
        "id": "FXs9rQC0u3_S"
      },
      "source": [
        "### 2. Read the csv file \"segmentation data.csv\" present in the Github repository as a Pandas DataFrame."
      ]
    },
    {
      "cell_type": "code",
      "execution_count": 12,
      "metadata": {
        "id": "bfiso96cORzB"
      },
      "outputs": [],
      "source": [
        "df=pd.read_csv(\"segmentation data.csv\")"
      ]
    },
    {
      "cell_type": "markdown",
      "metadata": {
        "id": "pkoXSkGvvEfQ"
      },
      "source": [
        "### 3. Do the necessary preprocessing of the data.\n",
        "\n",
        "> Drop unwanted columns.\n",
        "\n",
        "> Check for null values.\n",
        "\n",
        "> Scale the numerical columns.\n",
        "\n",
        "> Additionally, you may also make the Age column have categorical values. How ? Apply some function that makes age groups turns all ages in some group to a particular number !\n",
        "\n",
        "Note : Don't do everything in a single code block ! Do it step-by-step and show output for each step."
      ]
    },
    {
      "cell_type": "code",
      "execution_count": 13,
      "metadata": {
        "id": "R8T3S0J0OUS_"
      },
      "outputs": [
        {
          "name": "stdout",
          "output_type": "stream",
          "text": [
            "<class 'pandas.core.frame.DataFrame'>\n",
            "RangeIndex: 2000 entries, 0 to 1999\n",
            "Data columns (total 8 columns):\n",
            " #   Column           Non-Null Count  Dtype\n",
            "---  ------           --------------  -----\n",
            " 0   ID               2000 non-null   int64\n",
            " 1   Sex              2000 non-null   int64\n",
            " 2   Marital status   2000 non-null   int64\n",
            " 3   Age              2000 non-null   int64\n",
            " 4   Education        2000 non-null   int64\n",
            " 5   Income           2000 non-null   int64\n",
            " 6   Occupation       2000 non-null   int64\n",
            " 7   Settlement size  2000 non-null   int64\n",
            "dtypes: int64(8)\n",
            "memory usage: 125.1 KB\n"
          ]
        }
      ],
      "source": [
        "df.head()\n",
        "df.info()"
      ]
    },
    {
      "cell_type": "code",
      "execution_count": 14,
      "metadata": {},
      "outputs": [
        {
          "name": "stdout",
          "output_type": "stream",
          "text": [
            "   Sex  Marital status  Age  Education  Income  Occupation  Settlement size\n",
            "0    0               0   67          2  124670           1                2\n",
            "1    1               1   22          1  150773           1                2\n",
            "2    0               0   49          1   89210           0                0\n",
            "3    0               0   45          1  171565           1                1\n",
            "4    0               0   53          1  149031           1                1\n"
          ]
        }
      ],
      "source": [
        "df = df.drop(columns=['ID'])\n",
        "print(df.head())"
      ]
    },
    {
      "cell_type": "code",
      "execution_count": 15,
      "metadata": {},
      "outputs": [
        {
          "name": "stdout",
          "output_type": "stream",
          "text": [
            "Sex                0\n",
            "Marital status     0\n",
            "Age                0\n",
            "Education          0\n",
            "Income             0\n",
            "Occupation         0\n",
            "Settlement size    0\n",
            "dtype: int64\n"
          ]
        }
      ],
      "source": [
        "null_values = df.isnull().sum()\n",
        "print(null_values)"
      ]
    },
    {
      "cell_type": "code",
      "execution_count": 16,
      "metadata": {},
      "outputs": [
        {
          "name": "stdout",
          "output_type": "stream",
          "text": [
            "   Sex  Marital status       Age  Education    Income  Occupation  \\\n",
            "0    0               0  2.653614          2  0.097524           1   \n",
            "1    1               1 -1.187132          1  0.782654           1   \n",
            "2    0               0  1.117316          1 -0.833202           0   \n",
            "3    0               0  0.775916          1  1.328386           1   \n",
            "4    0               0  1.458716          1  0.736932           1   \n",
            "\n",
            "   Settlement size  \n",
            "0                2  \n",
            "1                2  \n",
            "2                0  \n",
            "3                1  \n",
            "4                1  \n"
          ]
        }
      ],
      "source": [
        "from sklearn.preprocessing import StandardScaler\n",
        "\n",
        "numerical_columns = ['Age', 'Income']\n",
        "scaler = StandardScaler()\n",
        "df[numerical_columns] = scaler.fit_transform(df[numerical_columns])\n",
        "print(df.head())"
      ]
    },
    {
      "cell_type": "code",
      "execution_count": 17,
      "metadata": {},
      "outputs": [
        {
          "name": "stdout",
          "output_type": "stream",
          "text": [
            "   Sex  Marital status  Age  Education    Income  Occupation  Settlement size\n",
            "0    0               0    1          2  0.097524           1                2\n",
            "1    1               1    1          1  0.782654           1                2\n",
            "2    0               0    1          1 -0.833202           0                0\n",
            "3    0               0    1          1  1.328386           1                1\n",
            "4    0               0    1          1  0.736932           1                1\n"
          ]
        }
      ],
      "source": [
        "def categorize_age(age):\n",
        "    if age <= 18:\n",
        "        return 1\n",
        "    elif 19 <= age <= 40:\n",
        "        return 2\n",
        "    elif 41 <= age <= 60:\n",
        "        return 3\n",
        "    else:\n",
        "        return 4\n",
        "\n",
        "df['Age'] = df['Age'].apply(categorize_age)\n",
        "print(df.head())"
      ]
    },
    {
      "cell_type": "markdown",
      "metadata": {
        "id": "GI5spEOLB2Sw"
      },
      "source": [
        "### 4. KMeans Model Training - Scikit-Learn\n",
        "\n",
        "At first, let's try to implement KMeans Clustering using sklearn.clusters.KMeans .\n",
        "\n",
        "How to decide for the value 'K' ?\n",
        "\n",
        "Read the following blog. It provides different ways of evaluating clustering algorithms.\n",
        "\n",
        "https://www.analyticsvidhya.com/blog/2021/05/k-mean-getting-the-optimal-number-of-clusters\n",
        "\n",
        "We will be looking on two methods : Elbow Method, Silhouette Analysis.\n",
        "\n",
        "**Make a list of values for K , ranging from 2 to 10. For each K, fit a model, calculate the inertia and silhouette scores. Plot them. Decide which value of K is optimal !**"
      ]
    },
    {
      "cell_type": "code",
      "execution_count": 18,
      "metadata": {
        "id": "onhGIzLqOX8p"
      },
      "outputs": [
        {
          "name": "stderr",
          "output_type": "stream",
          "text": [
            "c:\\Users\\CEZAN DAMANIA\\anaconda3\\Lib\\site-packages\\sklearn\\cluster\\_kmeans.py:870: FutureWarning: The default value of `n_init` will change from 10 to 'auto' in 1.4. Set the value of `n_init` explicitly to suppress the warning\n",
            "  warnings.warn(\n",
            "c:\\Users\\CEZAN DAMANIA\\anaconda3\\Lib\\site-packages\\sklearn\\cluster\\_kmeans.py:870: FutureWarning: The default value of `n_init` will change from 10 to 'auto' in 1.4. Set the value of `n_init` explicitly to suppress the warning\n",
            "  warnings.warn(\n",
            "c:\\Users\\CEZAN DAMANIA\\anaconda3\\Lib\\site-packages\\sklearn\\cluster\\_kmeans.py:870: FutureWarning: The default value of `n_init` will change from 10 to 'auto' in 1.4. Set the value of `n_init` explicitly to suppress the warning\n",
            "  warnings.warn(\n",
            "c:\\Users\\CEZAN DAMANIA\\anaconda3\\Lib\\site-packages\\sklearn\\cluster\\_kmeans.py:870: FutureWarning: The default value of `n_init` will change from 10 to 'auto' in 1.4. Set the value of `n_init` explicitly to suppress the warning\n",
            "  warnings.warn(\n",
            "c:\\Users\\CEZAN DAMANIA\\anaconda3\\Lib\\site-packages\\sklearn\\cluster\\_kmeans.py:870: FutureWarning: The default value of `n_init` will change from 10 to 'auto' in 1.4. Set the value of `n_init` explicitly to suppress the warning\n",
            "  warnings.warn(\n",
            "c:\\Users\\CEZAN DAMANIA\\anaconda3\\Lib\\site-packages\\sklearn\\cluster\\_kmeans.py:870: FutureWarning: The default value of `n_init` will change from 10 to 'auto' in 1.4. Set the value of `n_init` explicitly to suppress the warning\n",
            "  warnings.warn(\n",
            "c:\\Users\\CEZAN DAMANIA\\anaconda3\\Lib\\site-packages\\sklearn\\cluster\\_kmeans.py:870: FutureWarning: The default value of `n_init` will change from 10 to 'auto' in 1.4. Set the value of `n_init` explicitly to suppress the warning\n",
            "  warnings.warn(\n",
            "c:\\Users\\CEZAN DAMANIA\\anaconda3\\Lib\\site-packages\\sklearn\\cluster\\_kmeans.py:870: FutureWarning: The default value of `n_init` will change from 10 to 'auto' in 1.4. Set the value of `n_init` explicitly to suppress the warning\n",
            "  warnings.warn(\n",
            "c:\\Users\\CEZAN DAMANIA\\anaconda3\\Lib\\site-packages\\sklearn\\cluster\\_kmeans.py:870: FutureWarning: The default value of `n_init` will change from 10 to 'auto' in 1.4. Set the value of `n_init` explicitly to suppress the warning\n",
            "  warnings.warn(\n"
          ]
        },
        {
          "name": "stdout",
          "output_type": "stream",
          "text": [
            "Inertia values: [3781.0477309709204, 3127.0647756530893, 2686.9315062222013, 2401.360779962815, 2216.5246823013645, 2029.4055793891841, 1877.2177676667318, 1765.9308276464342, 1662.7290441086118]\n",
            "Silhouette scores: [0.3136599429491042, 0.27894272818135923, 0.244075800311735, 0.2495326899205653, 0.23598287520425612, 0.2587440723926546, 0.2656804349701589, 0.2553354634911303, 0.2683491034687494]\n"
          ]
        }
      ],
      "source": [
        "import matplotlib.pyplot as plt\n",
        "from sklearn.cluster import KMeans\n",
        "from sklearn.metrics import silhouette_score\n",
        "\n",
        "k_values = range(2, 11)\n",
        "inertia = []\n",
        "silhouette_scores = []\n",
        "\n",
        "for k in k_values:\n",
        "    kmeans = KMeans(n_clusters=k, random_state=42)\n",
        "    kmeans.fit(df)\n",
        "    inertia.append(kmeans.inertia_)\n",
        "    score = silhouette_score(df, kmeans.labels_)\n",
        "    silhouette_scores.append(score)\n",
        "\n",
        "print(\"Inertia values:\", inertia)\n",
        "print(\"Silhouette scores:\", silhouette_scores)"
      ]
    },
    {
      "cell_type": "code",
      "execution_count": 19,
      "metadata": {},
      "outputs": [
        {
          "data": {
            "image/png": "[encoded data removed]",
            "text/plain": [
              "<Figure size 1000x500 with 1 Axes>"
            ]
          },
          "metadata": {},
          "output_type": "display_data"
        }
      ],
      "source": [
        "# Plot the inertia values to use the Elbow Method\n",
        "plt.figure(figsize=(10, 5))\n",
        "plt.plot(k_values, inertia, 'bx-')\n",
        "plt.xlabel('Number of clusters (K)')\n",
        "plt.ylabel('Inertia')\n",
        "plt.title('Elbow Method for Optimal K')\n",
        "plt.show()"
      ]
    },
    {
      "cell_type": "code",
      "execution_count": 20,
      "metadata": {},
      "outputs": [
        {
          "data": {
            "image/png": "[encoded data removed]",
            "text/plain": [
              "<Figure size 1000x500 with 1 Axes>"
            ]
          },
          "metadata": {},
          "output_type": "display_data"
        }
      ],
      "source": [
        "plt.figure(figsize=(10, 5))\n",
        "plt.plot(k_values, silhouette_scores, 'bx-')\n",
        "plt.xlabel('Number of clusters (K)')\n",
        "plt.ylabel('Silhouette Score')\n",
        "plt.title('Silhouette Analysis for Optimal K')\n",
        "plt.show()\n"
      ]
    },
    {
      "cell_type": "markdown",
      "metadata": {
        "id": "1jajN40GH0EP"
      },
      "source": [
        "### 5. KMeans Model Prediction\n",
        "\n",
        "Once you decided the optimal K, once again fit a model with that K value and store the silhouette score and the labels for the entire data.\n",
        "\n",
        "It is observed that the optimal value of k is 4. So, let's store the values of inertia and labels for k=4."
      ]
    },
    {
      "cell_type": "code",
      "execution_count": 21,
      "metadata": {
        "id": "qydGd1rYOZqx"
      },
      "outputs": [
        {
          "name": "stderr",
          "output_type": "stream",
          "text": [
            "c:\\Users\\CEZAN DAMANIA\\anaconda3\\Lib\\site-packages\\sklearn\\cluster\\_kmeans.py:870: FutureWarning: The default value of `n_init` will change from 10 to 'auto' in 1.4. Set the value of `n_init` explicitly to suppress the warning\n",
            "  warnings.warn(\n"
          ]
        },
        {
          "name": "stdout",
          "output_type": "stream",
          "text": [
            "Inertia: 2686.9315062222013\n",
            "Silhouette Score: 0.244075800311735\n",
            "   Sex  Marital status  Age  Education    Income  Occupation  Settlement size  \\\n",
            "0    0               0    1          2  0.097524           1                2   \n",
            "1    1               1    1          1  0.782654           1                2   \n",
            "2    0               0    1          1 -0.833202           0                0   \n",
            "3    0               0    1          1  1.328386           1                1   \n",
            "4    0               0    1          1  0.736932           1                1   \n",
            "\n",
            "   Cluster  \n",
            "0        2  \n",
            "1        2  \n",
            "2        3  \n",
            "3        1  \n",
            "4        2  \n"
          ]
        }
      ],
      "source": [
        "optimal_k = 4\n",
        "kmeans_model = KMeans(n_clusters=optimal_k, random_state=42)\n",
        "labels = kmeans_model.fit_predict(df.drop(columns=['Cluster'], errors='ignore'))\n",
        "\n",
        "inertia = kmeans_model.inertia_\n",
        "silhouette_avg = silhouette_score(df.drop(columns=['Cluster'], errors='ignore'), labels)\n",
        "\n",
        "df['Cluster'] = labels\n",
        "\n",
        "print(f\"Inertia: {inertia}\")\n",
        "print(f\"Silhouette Score: {silhouette_avg}\")\n",
        "print(df.head())"
      ]
    },
    {
      "cell_type": "markdown",
      "metadata": {
        "id": "WTWu6y8S0Usv"
      },
      "source": [
        "### 7. DBSCAN model training - Scikit-Learn\n",
        "\n",
        "Using sklear.clusters.DBSCAN, you have to fit a model on the data.\n",
        "\n",
        "But, here we would like to deal with two hyperparameters : epsilon and minimum number of samples.\n",
        "\n",
        "Make two lists. One with some probable values for epsilon, other with probable values for min_samples.\n",
        "\n",
        "Example : eps= [0.1,0.2,0.5,1,2] , min_samples=[3,4,5,6]\n",
        "\n",
        "Run a nested loop. for each value of eps and min_samples, fit a dbscan model on the data and calculate the silhouette score. Find the parameters for which the silhouette score is maximum."
      ]
    },
    {
      "cell_type": "code",
      "execution_count": 22,
      "metadata": {
        "id": "NM5XJSZYOdmB"
      },
      "outputs": [
        {
          "name": "stdout",
          "output_type": "stream",
          "text": [
            "Best epsilon: 0.5\n",
            "Best min_samples: 3\n",
            "Best Silhouette Score: 0.45958102940587187\n"
          ]
        }
      ],
      "source": [
        "from sklearn.cluster import DBSCAN\n",
        "eps_values = [0.1, 0.2, 0.5, 1, 2]\n",
        "min_samples_values = [3, 4, 5, 6]\n",
        "best_eps = None\n",
        "best_min_samples = None\n",
        "best_silhouette_score = -1\n",
        "\n",
        "for eps in eps_values:\n",
        "    for min_samples in min_samples_values:\n",
        "        dbscan = DBSCAN(eps=eps, min_samples=min_samples)\n",
        "        labels = dbscan.fit_predict(df.drop(columns=['Cluster'], errors='ignore'))\n",
        "        if len(set(labels)) > 1:\n",
        "            score = silhouette_score(df.drop(columns=['Cluster'], errors='ignore'), labels)\n",
        "            if score > best_silhouette_score:\n",
        "                best_silhouette_score = score\n",
        "                best_eps = eps\n",
        "                best_min_samples = min_samples\n",
        "\n",
        "print(f\"Best epsilon: {best_eps}\")\n",
        "print(f\"Best min_samples: {best_min_samples}\")\n",
        "print(f\"Best Silhouette Score: {best_silhouette_score}\")"
      ]
    },
    {
      "cell_type": "code",
      "execution_count": 23,
      "metadata": {},
      "outputs": [
        {
          "name": "stdout",
          "output_type": "stream",
          "text": [
            "   Sex  Marital status  Age  Education    Income  Occupation  Settlement size  \\\n",
            "0    0               0    1          2  0.097524           1                2   \n",
            "1    1               1    1          1  0.782654           1                2   \n",
            "2    0               0    1          1 -0.833202           0                0   \n",
            "3    0               0    1          1  1.328386           1                1   \n",
            "4    0               0    1          1  0.736932           1                1   \n",
            "\n",
            "   Cluster  \n",
            "0        0  \n",
            "1        1  \n",
            "2        2  \n",
            "3        3  \n",
            "4        3  \n"
          ]
        }
      ],
      "source": [
        "best_dbscan = DBSCAN(eps=best_eps, min_samples=best_min_samples)\n",
        "df['Cluster'] = best_dbscan.fit_predict(df.drop(columns=['Cluster'], errors='ignore'))\n",
        "\n",
        "print(df.head())"
      ]
    }
  ],
  "metadata": {
    "colab": {
      "provenance": []
    },
    "kernelspec": {
      "display_name": "Python 3",
      "name": "python3"
    },
    "language_info": {
      "codemirror_mode": {
        "name": "ipython",
        "version": 3
      },
      "file_extension": ".py",
      "mimetype": "text/x-python",
      "name": "python",
      "nbconvert_exporter": "python",
      "pygments_lexer": "ipython3",
      "version": "3.11.7"
    }
  },
  "nbformat": 4,
  "nbformat_minor": 0
}
