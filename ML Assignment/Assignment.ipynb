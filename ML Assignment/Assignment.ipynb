{
 "cells": [
  {
   "cell_type": "markdown",
   "metadata": {
    "id": "Y5y_HbJiPKhA"
   },
   "source": [
    "# Linear Regression\n",
    "## Question 1\n",
    "Make a class called LinearRegression which provides two functions : fit and predict. Try to implement it from scratch. If stuck, refer to the examples folder."
   ]
  },
  {
   "cell_type": "code",
   "execution_count": 7,
   "metadata": {
    "id": "gzoG2XilPLFr"
   },
   "outputs": [],
   "source": [
    "class LinearRegression:\n",
    "    def fit(self, X_train, y_train):\n",
    "        n_samples, n_features = X_train.shape\n",
    "        y_train=y_train.reshape(-1,1)\n",
    "        # init parameters\n",
    "        self.weights = np.zeros((n_features,1))\n",
    "        self.bias = np.zeros((1,1))\n",
    "\n",
    "        # gradient descent\n",
    "        for i in range(self.epochs):\n",
    "            delta= -(y_train-np.dot(X_train,self.weights)-self.bias)/n_samples\n",
    "            dw= np.dot(X_train.T,delta)\n",
    "            db= np.sum(delta).reshape(1,1)\n",
    "\n",
    "            #update weights and biases\n",
    "            self.weights-= self.lr * dw\n",
    "            self.bias-= self.lr* db\n",
    "    def predict(self, X_test):\n",
    "        y_predicted = np.dot(X_test,self.weights)+self.bias\n",
    "        print(self.weights, self.bias)\n",
    "        return y_predicted"
   ]
  },
  {
   "cell_type": "markdown",
   "metadata": {
    "id": "PsqoxNag7D3-"
   },
   "source": [
    "## Question 2\n",
    "\n",
    "Use the dataset https://www.kaggle.com/datasets/quantbruce/real-estate-price-prediction (*).\n",
    "1. Read it using pandas.\n",
    "2. Check for **null values**.\n",
    "3. For each of the columns (except the first and last), plot the column values in the X-axis against the last column of prices in the Y-axis.\n",
    "4. Remove the unwanted columns.\n",
    "5. Split the dataset into train and test data. Test data size = 25% of total dataset.\n",
    "6. **Normalize** the X_train and X_test using MinMaxScaler from sklearn.preprocessing.\n",
    "7. Fit the training data into the model created in question 1 and predict the testing data.\n",
    "8. Use **mean square error and R<sup>2</sup>** from sklearn.metrics as evaluation criterias.\n",
    "9. Fit the training data into the models of the same name provided by sklearn.linear_model and evaluate the predictions using MSE and R<sup>2</sup>.\n",
    "10. Tune the hyperparameters of your models (learning rate, epochs) to achieve losses close to that of the sklearn models.\n",
    "\n",
    "Note : (*) To solve this question, you may proceed in any of the following ways :\n",
    "1. Prepare the notebook in Kaggle, download it and submit it separately with the other questions.\n",
    "2. Download the dataset from kaggle. Upload it to the session storage in Colab.\n",
    "3. Use Colab data directly in Colab. [Refer here](https://www.kaggle.com/general/74235). For this, you need to create kaggle API token. Before submitting, hide or remove the API token."
   ]
  },
  {
   "cell_type": "code",
   "execution_count": null,
   "metadata": {
    "id": "8lupaMcr63QF"
   },
   "outputs": [],
   "source": []
  },
  {
   "cell_type": "markdown",
   "metadata": {
    "id": "dQ7lQpy-SYCq"
   },
   "source": [
    "# Logistic Regression\n",
    "## Question 3\n",
    "\n",
    "The breast cancer dataset is a binary classification dataset commonly used in machine learning tasks. It is available in scikit-learn (sklearn) as part of its datasets module.\n",
    "Here is an explanation of the breast cancer dataset's components:\n",
    "\n",
    "* Features (X):\n",
    "\n",
    " * The breast cancer dataset consists of 30 numeric features representing different characteristics of the FNA images. These features include mean, standard error, and worst (largest) values of various attributes such as radius, texture, smoothness, compactness, concavity, symmetry, fractal dimension, etc.\n",
    "\n",
    "* Target (y):\n",
    "\n",
    " * The breast cancer dataset is a binary classification problem, and the target variable (y) represents the diagnosis of the breast mass. It contains two classes:\n",
    "    * 0: Represents a malignant (cancerous) tumor.\n",
    "    * 1: Represents a benign (non-cancerous) tumor.\n",
    "\n",
    "Complete the code given below in place of the \"...\""
   ]
  },
  {
   "cell_type": "markdown",
   "metadata": {
    "id": "auipk-zBpmO-"
   },
   "source": [
    "1. Load the dataset from sklearn.datasets\n",
    "2. Separate out the X and Y columns.\n",
    "3. Normalize the X data using MinMaxScaler or StandardScaler.\n",
    "4. Create a train-test-split. Take any suitable test size."
   ]
  },
  {
   "cell_type": "code",
   "execution_count": 1,
   "metadata": {
    "id": "0OyGNHNjFh13"
   },
   "outputs": [],
   "source": [
    "from sklearn.datasets import load_breast_cancer\n",
    "from sklearn.model_selection import train_test_split\n",
    "from sklearn.preprocessing import StandardScaler\n",
    "import numpy as np\n",
    "\n",
    "data = load_breast_cancer()\n",
    "X = data.data\n",
    "y = data.target\n",
    "\n",
    "scaler = StandardScaler()\n",
    "X = scaler.fit_transform(X)\n",
    "\n",
    "X_train, X_test, y_train, y_test = train_test_split(X, y, test_size=0.2, random_state=42)\n"
   ]
  },
  {
   "cell_type": "markdown",
   "metadata": {
    "id": "uM-SsSxpqF2o"
   },
   "source": [
    "5. Write code for the sigmoid function and Logistic regression.\n"
   ]
  },
  {
   "cell_type": "code",
   "execution_count": 7,
   "metadata": {
    "id": "o81LA5MZFoTW"
   },
   "outputs": [],
   "source": [
    "def sigmoid(z):\n",
    "    return 1 / (1 + np.exp(-z))\n",
    "\n",
    "def sigmoid_derivative(z):\n",
    "    return sigmoid(z) * (1 - sigmoid(z))\n",
    "\n",
    "class LogisticRegression:\n",
    "    def __init__(self, learning_rate, epochs):\n",
    "      #Initialise the hyperparameters of the model\n",
    "        self.lr = learning_rate\n",
    "        self.epochs = epochs\n",
    "\n",
    "    def fit(self, X, y):\n",
    "        n_samples, n_features = X.shape\n",
    "        y = y.reshape(-1, 1)\n",
    "        self.weights = np.zeros((n_features,1))\n",
    "        self.bias = 0\n",
    "\n",
    "        #Implement the GD algortihm\n",
    "        for _ in range(self.epochs):\n",
    "            z = np.dot(X,self.weights)+self.bias\n",
    "            y_pred = sigmoid(z)\n",
    "\n",
    "            dw = (1/n_samples)*np.dot(X.T,y_pred-y)\n",
    "            db = (1/n_samples)*np.sum(y_pred-y)\n",
    "\n",
    "            self.weights -= self.lr*dw\n",
    "            self.bias -= self.lr*db\n",
    "\n",
    "    def predict(self, X):\n",
    "      #Write the predict function\n",
    "        z = np.dot(X, self.weights) + self.bias\n",
    "        y_pred = np.where(sigmoid(z) > 0.5, 1, 0)\n",
    "        return y_pred"
   ]
  },
  {
   "cell_type": "markdown",
   "metadata": {
    "id": "Uo9LNRMzq4K-"
   },
   "source": [
    "6. Fit your model on the dataset and make predictions.\n",
    "7. Compare your model with the Sklearn Logistic Regression model. Try out all the different penalties.\n",
    "8. Print accuracy_score in each case using sklearn.metrics ."
   ]
  },
  {
   "cell_type": "code",
   "execution_count": 9,
   "metadata": {
    "id": "DyGsTTOqFphf"
   },
   "outputs": [
    {
     "name": "stderr",
     "output_type": "stream",
     "text": [
      "C:\\Users\\CEZAN DAMANIA\\anaconda3\\Lib\\site-packages\\sklearn\\linear_model\\_logistic.py:1173: FutureWarning: `penalty='none'`has been deprecated in 1.2 and will be removed in 1.4. To keep the past behaviour, set `penalty=None`.\n",
      "  warnings.warn(\n"
     ]
    },
    {
     "name": "stdout",
     "output_type": "stream",
     "text": [
      "Custom Logistic Regression Accuracy: 99.12%\n",
      "Sklearn Logistic Regression Accuracy with none penalty: 93.86%\n",
      "Sklearn Logistic Regression Accuracy with l1 penalty: 96.49%\n",
      "Sklearn Logistic Regression Accuracy with l2 penalty: 97.37%\n",
      "Sklearn Logistic Regression Accuracy with elasticnet penalty: 97.37%\n"
     ]
    }
   ],
   "source": [
    "from sklearn.linear_model import LogisticRegression as SklearnLogisticRegression\n",
    "from sklearn.metrics import accuracy_score\n",
    "\n",
    "custom_model = LogisticRegression(learning_rate=0.01, epochs=1000)\n",
    "custom_model.fit(X_train, y_train)\n",
    "y_pred_custom = custom_model.predict(X_test)\n",
    "custom_accuracy = accuracy_score(y_test, y_pred_custom)\n",
    "\n",
    "penalties = ['none', 'l1', 'l2', 'elasticnet']\n",
    "solver_options = {\n",
    "    'none': 'lbfgs',\n",
    "    'l1': 'saga',\n",
    "    'l2': 'lbfgs',\n",
    "    'elasticnet': 'saga'\n",
    "}\n",
    "\n",
    "sklearn_accuracies = {}\n",
    "\n",
    "for penalty in penalties:\n",
    "    if penalty == 'elasticnet':\n",
    "        model = SklearnLogisticRegression(penalty=penalty, solver=solver_options[penalty], l1_ratio=0.5, max_iter=10000)\n",
    "    else:\n",
    "        model = SklearnLogisticRegression(penalty=penalty, solver=solver_options[penalty], max_iter=10000)\n",
    "    \n",
    "    model.fit(X_train, y_train)\n",
    "    y_pred = model.predict(X_test)\n",
    "    accuracy = accuracy_score(y_test, y_pred)\n",
    "    sklearn_accuracies[penalty] = accuracy\n",
    "\n",
    "print(f\"Custom Logistic Regression Accuracy: {custom_accuracy * 100:.2f}%\")\n",
    "for penalty, accuracy in sklearn_accuracies.items():\n",
    "    print(f\"Sklearn Logistic Regression Accuracy with {penalty} penalty: {accuracy * 100:.2f}%\")\n"
   ]
  },
  {
   "cell_type": "markdown",
   "metadata": {
    "id": "AGBkzAO5red4"
   },
   "source": [
    "9. For the best model in each case (yours and scikit-learn), print the classification_report using sklearn.metrics .\n",
    "10. For the best model in each case (yours and scikit-learn), print the confusion_matrix using sklearn.metrics ."
   ]
  },
  {
   "cell_type": "code",
   "execution_count": 11,
   "metadata": {
    "id": "le-HfABsvnyF"
   },
   "outputs": [
    {
     "name": "stdout",
     "output_type": "stream",
     "text": [
      "Custom Logistic Regression Accuracy: 99.12%\n",
      "Classification Report for Custom Logistic Regression:\n",
      "              precision    recall  f1-score   support\n",
      "\n",
      "           0       1.00      0.98      0.99        43\n",
      "           1       0.99      1.00      0.99        71\n",
      "\n",
      "    accuracy                           0.99       114\n",
      "   macro avg       0.99      0.99      0.99       114\n",
      "weighted avg       0.99      0.99      0.99       114\n",
      "\n",
      "Confusion Matrix for Custom Logistic Regression:\n",
      "[[42  1]\n",
      " [ 0 71]]\n",
      "\n",
      "Sklearn Logistic Regression Accuracy with best penalty 'l2': 97.37%\n",
      "Classification Report for Sklearn Logistic Regression with best penalty 'l2':\n",
      "              precision    recall  f1-score   support\n",
      "\n",
      "           0       0.98      0.95      0.96        43\n",
      "           1       0.97      0.99      0.98        71\n",
      "\n",
      "    accuracy                           0.97       114\n",
      "   macro avg       0.97      0.97      0.97       114\n",
      "weighted avg       0.97      0.97      0.97       114\n",
      "\n",
      "Confusion Matrix for Sklearn Logistic Regression with best penalty 'l2':\n",
      "[[41  2]\n",
      " [ 1 70]]\n"
     ]
    }
   ],
   "source": [
    "from sklearn.metrics import classification_report, confusion_matrix\n",
    "\n",
    "y_pred_custom = custom_model.predict(X_test)\n",
    "custom_accuracy = accuracy_score(y_test, y_pred_custom)\n",
    "print(f\"Custom Logistic Regression Accuracy: {custom_accuracy * 100:.2f}%\")\n",
    "print(\"Classification Report for Custom Logistic Regression:\")\n",
    "print(classification_report(y_test, y_pred_custom))\n",
    "print(\"Confusion Matrix for Custom Logistic Regression:\")\n",
    "print(confusion_matrix(y_test, y_pred_custom))\n",
    "\n",
    "best_penalty = max(sklearn_accuracies, key=sklearn_accuracies.get)\n",
    "best_sklearn_model = SklearnLogisticRegression(\n",
    "    penalty=best_penalty,\n",
    "    solver=solver_options[best_penalty],\n",
    "    l1_ratio=0.5 if best_penalty == 'elasticnet' else None,\n",
    "    max_iter=10000\n",
    ")\n",
    "\n",
    "best_sklearn_model.fit(X_train, y_train)\n",
    "y_pred_sklearn = best_sklearn_model.predict(X_test)\n",
    "best_sklearn_accuracy = accuracy_score(y_test, y_pred_sklearn)\n",
    "\n",
    "print(f\"\\nSklearn Logistic Regression Accuracy with best penalty '{best_penalty}': {best_sklearn_accuracy * 100:.2f}%\")\n",
    "print(f\"Classification Report for Sklearn Logistic Regression with best penalty '{best_penalty}':\")\n",
    "print(classification_report(y_test, y_pred_sklearn))\n",
    "print(f\"Confusion Matrix for Sklearn Logistic Regression with best penalty '{best_penalty}':\")\n",
    "print(confusion_matrix(y_test, y_pred_sklearn))\n"
   ]
  },
  {
   "cell_type": "markdown",
   "metadata": {
    "id": "6OQ2tSp0MO6n"
   },
   "source": [
    "# KNN\n",
    "## Question 4\n",
    "\n",
    "How accurately can a K-Nearest Neighbors (KNN) model classify different types of glass based on a glass classification dataset consisting of 214 samples and 7 classes? Use the kaggle dataset \"https://www.kaggle.com/datasets/uciml/glass\".\n",
    "\n",
    "Context: This is a Glass Identification Data Set from UCI. It contains 10 attributes including id. The response is glass type(discrete 7 values)"
   ]
  },
  {
   "cell_type": "markdown",
   "metadata": {
    "id": "iMGxbtX-zfsI"
   },
   "source": [
    "1. Load the data as you did in the 2nd question.\n",
    "2. Extract the X and Y columns.\n",
    "3. Split it into training and testing datasets."
   ]
  },
  {
   "cell_type": "code",
   "execution_count": null,
   "metadata": {
    "id": "p0SfLB7pO7_z"
   },
   "outputs": [],
   "source": []
  },
  {
   "cell_type": "markdown",
   "metadata": {
    "id": "qtyZJXh9zoh5"
   },
   "source": [
    "4. Define Euclidean distance.\n",
    "5. Build the KNN model.\n",
    "6. Fit the model on the training data. (Note : you may require to change the type of the data from pandas dataframe to numpy arrays. To do that, just do this X=np.array(X) and so on...)"
   ]
  },
  {
   "cell_type": "code",
   "execution_count": null,
   "metadata": {
    "id": "YJkhLORLzn6r"
   },
   "outputs": [],
   "source": []
  },
  {
   "cell_type": "markdown",
   "metadata": {
    "id": "E9rxZpPB0pVS"
   },
   "source": [
    "7. Make predictions. Find their accuracy using accuracy_score. Try different k values. k=3 worked well in our case.\n",
    "8. Compare with the sklearn model (from sklearn.neighbors import KNeighborsClassifier)"
   ]
  },
  {
   "cell_type": "code",
   "execution_count": null,
   "metadata": {
    "id": "ernfjaZJ0pAh"
   },
   "outputs": [],
   "source": []
  },
  {
   "cell_type": "code",
   "execution_count": null,
   "metadata": {
    "id": "h2tZQg4L09wn"
   },
   "outputs": [],
   "source": []
  }
 ],
 "metadata": {
  "colab": {
   "provenance": []
  },
  "kernelspec": {
   "display_name": "Python 3 (ipykernel)",
   "language": "python",
   "name": "python3"
  },
  "language_info": {
   "codemirror_mode": {
    "name": "ipython",
    "version": 3
   },
   "file_extension": ".py",
   "mimetype": "text/x-python",
   "name": "python",
   "nbconvert_exporter": "python",
   "pygments_lexer": "ipython3",
   "version": "3.11.7"
  }
 },
 "nbformat": 4,
 "nbformat_minor": 4
}
